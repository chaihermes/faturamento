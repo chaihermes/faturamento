{
  "nbformat": 4,
  "nbformat_minor": 0,
  "metadata": {
    "colab": {
      "provenance": [],
      "authorship_tag": "ABX9TyNBuvRNlmt1P1fRKw9eN4wH",
      "include_colab_link": true
    },
    "kernelspec": {
      "name": "python3",
      "display_name": "Python 3"
    },
    "language_info": {
      "name": "python"
    }
  },
  "cells": [
    {
      "cell_type": "markdown",
      "metadata": {
        "id": "view-in-github",
        "colab_type": "text"
      },
      "source": [
        "<a href=\"https://colab.research.google.com/github/chaihermes/faturamento/blob/main/faturamento.ipynb\" target=\"_parent\"><img src=\"https://colab.research.google.com/assets/colab-badge.svg\" alt=\"Open In Colab\"/></a>"
      ]
    },
    {
      "cell_type": "code",
      "source": [
        "# Script que gera o faturamento anual de uma distribuidora.\n",
        "# Os valores são entre R$0,00 e R$10.000,00\n",
        "# Finais de semana e feriados podem não ter faturamento\n",
        "import random\n",
        "\n",
        "def gerar_faturamento_anual(num_dias=365):\n",
        "  \"\"\"\n",
        "  Gera uma lista de valores de faturamento aleatórios para um ano.\n",
        "\n",
        "  Args:\n",
        "    num_dias: Número total de dias a considerar no ano.\n",
        "\n",
        "  Returns:\n",
        "    Uma lista com os valores de faturamento diário.\n",
        "  \"\"\"\n",
        "\n",
        "  faturamento = []\n",
        "  for _ in range(num_dias):\n",
        "    # Simula dias sem faturamento com uma probabilidade de 20%\n",
        "    if random.random() < 0.2:\n",
        "      faturamento.append(0)\n",
        "    else:\n",
        "      # Gera um valor de faturamento aleatório entre 0 e 10000\n",
        "      faturamento.append(random.randint(0, 10000))\n",
        "\n",
        "  return faturamento\n",
        "\n",
        "# Exemplo de uso:\n",
        "faturamento_anual = gerar_faturamento_anual()\n",
        "print(faturamento_anual)"
      ],
      "metadata": {
        "colab": {
          "base_uri": "https://localhost:8080/"
        },
        "id": "-seCOW-sLlJR",
        "outputId": "d1f41fac-fa1e-40f0-a827-4d04d0fc1ea8"
      },
      "execution_count": 6,
      "outputs": [
        {
          "output_type": "stream",
          "name": "stdout",
          "text": [
            "[8295, 6062, 881, 0, 3362, 3703, 0, 6948, 3078, 4038, 5042, 3251, 6785, 2049, 632, 7566, 8732, 0, 7678, 12, 0, 0, 4086, 0, 844, 3194, 5529, 6614, 2691, 0, 5856, 533, 9747, 6330, 9802, 0, 5839, 3952, 0, 4164, 8347, 0, 1297, 0, 8885, 145, 9980, 2911, 2603, 6191, 0, 2429, 0, 8267, 3416, 8250, 0, 0, 8046, 2071, 0, 752, 1138, 2732, 0, 986, 4791, 0, 7150, 4891, 1340, 5106, 4946, 8189, 4438, 5337, 0, 2341, 9266, 6054, 388, 7157, 0, 0, 7242, 9130, 1921, 8402, 0, 173, 3698, 8083, 8753, 6594, 7520, 5383, 775, 0, 2416, 8981, 4701, 491, 7907, 1395, 1715, 784, 5301, 2818, 6001, 8839, 8782, 7054, 8741, 0, 4012, 2425, 2340, 7781, 3155, 605, 3045, 0, 7139, 4670, 2540, 0, 3351, 9562, 3920, 4361, 0, 2050, 2441, 0, 3414, 8332, 1024, 5408, 2459, 49, 6073, 7514, 0, 2303, 9596, 5816, 2151, 6847, 6738, 9357, 6237, 9376, 3486, 5166, 2669, 0, 7535, 5314, 6148, 7212, 0, 9091, 0, 314, 8992, 1727, 7390, 8522, 3549, 1070, 2762, 7773, 2936, 4203, 3376, 6628, 0, 6587, 1677, 161, 6675, 962, 2254, 1179, 6518, 8806, 347, 9308, 9671, 5097, 846, 2502, 5030, 9264, 7665, 9381, 4903, 4140, 9806, 3820, 5639, 7532, 5518, 5589, 3442, 3894, 1218, 9545, 3616, 1618, 5835, 6577, 2034, 5707, 2696, 463, 6849, 5581, 0, 4709, 7461, 0, 1326, 2196, 4862, 108, 7040, 5539, 5380, 730, 6198, 9002, 7201, 2330, 0, 3181, 7974, 411, 0, 5799, 0, 6019, 0, 2029, 7902, 6197, 7021, 9070, 0, 0, 9308, 4638, 0, 9382, 2319, 8906, 6018, 5791, 7563, 0, 0, 0, 6510, 9870, 6826, 3278, 3295, 1014, 0, 5823, 9607, 9507, 483, 9945, 4305, 8413, 6939, 2054, 5794, 2235, 6886, 9476, 5794, 6867, 4765, 5959, 7643, 5155, 9902, 0, 8355, 6113, 0, 8524, 4038, 2677, 5761, 0, 0, 0, 1416, 3308, 9538, 9712, 1712, 1289, 0, 5382, 0, 6502, 0, 9681, 7892, 7939, 7831, 0, 4548, 1135, 6024, 1388, 7828, 7555, 8233, 503, 696, 7442, 4431, 3575, 3785, 2002, 1721, 3064, 9077, 3095, 43, 9966, 0, 8459, 8232, 9530, 7425, 1151, 0, 0, 0, 0, 0, 13, 6217, 3292, 4518, 7685, 7890, 6172, 0, 7967, 2455, 9201, 7165, 8572, 2343, 0, 6668, 1608, 6626]\n"
          ]
        }
      ]
    },
    {
      "cell_type": "code",
      "source": [
        "# Análise do faturamento anual de uma distribuidora, verificando o menor valor ocorrido em um dia do ano,\n",
        "# o maior valor ocorrido em um dia do ano e o número de dias em que o valor de faturamento diário foi superio à média anual,\n",
        "# excluindo do cálculo da média dias sem faturamento.\n",
        "\n",
        "def analisa_faturamento(faturamento_diario):\n",
        "  \"\"\"\n",
        "  Analisa o faturamento diário de uma distribuidora.\n",
        "\n",
        "  Args:\n",
        "    faturamento_diario: Uma lista com os valores de faturamento diário.\n",
        "\n",
        "  Returns:\n",
        "    Uma tupla com o menor valor de faturamento, o maior valor de faturamento e\n",
        "    o número de dias com faturamento acima da média.\n",
        "  \"\"\"\n",
        "\n",
        "  # Remove valores nulos (dias sem faturamento)\n",
        "  faturamento_valido = [valor for valor in faturamento_diario if valor > 0]\n",
        "\n",
        "  # Calcula a média anual\n",
        "  media_anual = sum(faturamento_valido) / len(faturamento_valido)\n",
        "\n",
        "  # Encontra o menor e maior valor\n",
        "  menor_valor = min(faturamento_valido)\n",
        "  maior_valor = max(faturamento_valido)\n",
        "\n",
        "  # Conta os dias com faturamento acima da média\n",
        "  dias_acima_media = sum(valor > media_anual for valor in faturamento_valido)\n",
        "\n",
        "  return menor_valor, maior_valor, dias_acima_media\n",
        "\n",
        "# Exemplo de uso:\n",
        "faturamento_ano = [8295, 6062, 881, 0, 3362, 3703, 0, 6948, 3078, 4038, 5042, 3251, 6785, 2049, 632, 7566, 8732, 0, 7678, 12, 0, 0, 4086, 0, 844, 3194, 5529, 6614, 2691, 0, 5856, 533, 9747, 6330, 9802, 0, 5839, 3952, 0, 4164, 8347, 0, 1297, 0, 8885, 145, 9980, 2911, 2603, 6191, 0, 2429, 0, 8267, 3416, 8250, 0, 0, 8046, 2071, 0, 752, 1138, 2732, 0, 986, 4791, 0, 7150, 4891, 1340, 5106, 4946, 8189, 4438, 5337, 0, 2341, 9266, 6054, 388, 7157, 0, 0, 7242, 9130, 1921, 8402, 0, 173, 3698, 8083, 8753, 6594, 7520, 5383, 775, 0, 2416, 8981, 4701, 491, 7907, 1395, 1715, 784, 5301, 2818, 6001, 8839, 8782, 7054, 8741, 0, 4012, 2425, 2340, 7781, 3155, 605, 3045, 0, 7139, 4670, 2540, 0, 3351, 9562, 3920, 4361, 0, 2050, 2441, 0, 3414, 8332, 1024, 5408, 2459, 49, 6073, 7514, 0, 2303, 9596, 5816, 2151, 6847, 6738, 9357, 6237, 9376, 3486, 5166, 2669, 0, 7535, 5314, 6148, 7212, 0, 9091, 0, 314, 8992, 1727, 7390, 8522, 3549, 1070, 2762, 7773, 2936, 4203, 3376, 6628, 0, 6587, 1677, 161, 6675, 962, 2254, 1179, 6518, 8806, 347, 9308, 9671, 5097, 846, 2502, 5030, 9264, 7665, 9381, 4903, 4140, 9806, 3820, 5639, 7532, 5518, 5589, 3442, 3894, 1218, 9545, 3616, 1618, 5835, 6577, 2034, 5707, 2696, 463, 6849, 5581, 0, 4709, 7461, 0, 1326, 2196, 4862, 108, 7040, 5539, 5380, 730, 6198, 9002, 7201, 2330, 0, 3181, 7974, 411, 0, 5799, 0, 6019, 0, 2029, 7902, 6197, 7021, 9070, 0, 0, 9308, 4638, 0, 9382, 2319, 8906, 6018, 5791, 7563, 0, 0, 0, 6510, 9870, 6826, 3278, 3295, 1014, 0, 5823, 9607, 9507, 483, 9945, 4305, 8413, 6939, 2054, 5794, 2235, 6886, 9476, 5794, 6867, 4765, 5959, 7643, 5155, 9902, 0, 8355, 6113, 0, 8524, 4038, 2677, 5761, 0, 0, 0, 1416, 3308, 9538, 9712, 1712, 1289, 0, 5382, 0, 6502, 0, 9681, 7892, 7939, 7831, 0, 4548, 1135, 6024, 1388, 7828, 7555, 8233, 503, 696, 7442, 4431, 3575, 3785, 2002, 1721, 3064, 9077, 3095, 43, 9966, 0, 8459, 8232, 9530, 7425, 1151, 0, 0, 0, 0, 0, 13, 6217, 3292, 4518, 7685, 7890, 6172, 0, 7967, 2455, 9201, 7165, 8572, 2343, 0, 6668, 1608, 6626]\n",
        "resultado = analisa_faturamento(faturamento_ano)\n",
        "print(\"Menor valor:\", resultado[0])\n",
        "print(\"Maior valor:\", resultado[1])\n",
        "print(\"Dias acima da média:\", resultado[2])"
      ],
      "metadata": {
        "colab": {
          "base_uri": "https://localhost:8080/"
        },
        "id": "xJ80OYMgPSXH",
        "outputId": "463e0e98-b648-4231-a127-acd37f31e3fa"
      },
      "execution_count": 8,
      "outputs": [
        {
          "output_type": "stream",
          "name": "stdout",
          "text": [
            "Menor valor: 12\n",
            "Maior valor: 9980\n",
            "Dias acima da média: 159\n"
          ]
        }
      ]
    }
  ]
}